{
 "cells": [
  {
   "cell_type": "code",
   "execution_count": 1,
   "id": "86525543-6d26-4e79-97ec-8bc7adb043b7",
   "metadata": {},
   "outputs": [],
   "source": [
    "import pandas as pd"
   ]
  },
  {
   "cell_type": "code",
   "execution_count": 2,
   "id": "3377031e-15c8-418c-8967-4ac5b264ea72",
   "metadata": {},
   "outputs": [],
   "source": [
    "df = pd.read_csv('G22_Energy – Power Plants  Regions with Grid Operators_merged.csv')"
   ]
  },
  {
   "cell_type": "code",
   "execution_count": 3,
   "id": "7994c515-d258-4247-b9ed-9b7da77edd11",
   "metadata": {},
   "outputs": [
    {
     "data": {
      "text/html": [
       "<div>\n",
       "<style scoped>\n",
       "    .dataframe tbody tr th:only-of-type {\n",
       "        vertical-align: middle;\n",
       "    }\n",
       "\n",
       "    .dataframe tbody tr th {\n",
       "        vertical-align: top;\n",
       "    }\n",
       "\n",
       "    .dataframe thead th {\n",
       "        text-align: right;\n",
       "    }\n",
       "</style>\n",
       "<table border=\"1\" class=\"dataframe\">\n",
       "  <thead>\n",
       "    <tr style=\"text-align: right;\">\n",
       "      <th></th>\n",
       "      <th>powerplant_id</th>\n",
       "      <th>region_id</th>\n",
       "      <th>distribution_date</th>\n",
       "      <th>energy_supplied</th>\n",
       "      <th>plant_name</th>\n",
       "      <th>capacity</th>\n",
       "      <th>plant_type</th>\n",
       "      <th>operator_id</th>\n",
       "      <th>region_name</th>\n",
       "      <th>area</th>\n",
       "      <th>population</th>\n",
       "      <th>operator_name</th>\n",
       "      <th>contact</th>\n",
       "    </tr>\n",
       "  </thead>\n",
       "  <tbody>\n",
       "    <tr>\n",
       "      <th>0</th>\n",
       "      <td>76</td>\n",
       "      <td>25</td>\n",
       "      <td>2025-01-25</td>\n",
       "      <td>1062</td>\n",
       "      <td>Ramirez LLC</td>\n",
       "      <td>515</td>\n",
       "      <td>Solar</td>\n",
       "      <td>2</td>\n",
       "      <td>treatment</td>\n",
       "      <td>4393</td>\n",
       "      <td>700514</td>\n",
       "      <td>Karla Williams</td>\n",
       "      <td>746.435.9498</td>\n",
       "    </tr>\n",
       "    <tr>\n",
       "      <th>1</th>\n",
       "      <td>98</td>\n",
       "      <td>5</td>\n",
       "      <td>2025-01-18</td>\n",
       "      <td>6961</td>\n",
       "      <td>Schaefer and Sons</td>\n",
       "      <td>738</td>\n",
       "      <td>Nuclear</td>\n",
       "      <td>15</td>\n",
       "      <td>leader</td>\n",
       "      <td>4787</td>\n",
       "      <td>957156</td>\n",
       "      <td>Thomas Ramsey Jr.</td>\n",
       "      <td>974-935-3350</td>\n",
       "    </tr>\n",
       "    <tr>\n",
       "      <th>2</th>\n",
       "      <td>3</td>\n",
       "      <td>26</td>\n",
       "      <td>2025-02-08</td>\n",
       "      <td>6987</td>\n",
       "      <td>Brown Inc</td>\n",
       "      <td>438</td>\n",
       "      <td>Wind</td>\n",
       "      <td>18</td>\n",
       "      <td>with</td>\n",
       "      <td>154</td>\n",
       "      <td>217686</td>\n",
       "      <td>Alexander Peck</td>\n",
       "      <td>596.919.9974</td>\n",
       "    </tr>\n",
       "  </tbody>\n",
       "</table>\n",
       "</div>"
      ],
      "text/plain": [
       "   powerplant_id  region_id distribution_date  energy_supplied  \\\n",
       "0             76         25        2025-01-25             1062   \n",
       "1             98          5        2025-01-18             6961   \n",
       "2              3         26        2025-02-08             6987   \n",
       "\n",
       "          plant_name  capacity plant_type  operator_id region_name  area  \\\n",
       "0        Ramirez LLC       515      Solar            2   treatment  4393   \n",
       "1  Schaefer and Sons       738    Nuclear           15      leader  4787   \n",
       "2          Brown Inc       438       Wind           18        with   154   \n",
       "\n",
       "   population      operator_name       contact  \n",
       "0      700514     Karla Williams  746.435.9498  \n",
       "1      957156  Thomas Ramsey Jr.  974-935-3350  \n",
       "2      217686     Alexander Peck  596.919.9974  "
      ]
     },
     "execution_count": 3,
     "metadata": {},
     "output_type": "execute_result"
    }
   ],
   "source": [
    "df.head(3)"
   ]
  },
  {
   "cell_type": "code",
   "execution_count": 7,
   "id": "8dfc8d7b-6142-45cb-82a8-fdb259269731",
   "metadata": {},
   "outputs": [
    {
     "data": {
      "text/html": [
       "<div>\n",
       "<style scoped>\n",
       "    .dataframe tbody tr th:only-of-type {\n",
       "        vertical-align: middle;\n",
       "    }\n",
       "\n",
       "    .dataframe tbody tr th {\n",
       "        vertical-align: top;\n",
       "    }\n",
       "\n",
       "    .dataframe thead th {\n",
       "        text-align: right;\n",
       "    }\n",
       "</style>\n",
       "<table border=\"1\" class=\"dataframe\">\n",
       "  <thead>\n",
       "    <tr style=\"text-align: right;\">\n",
       "      <th></th>\n",
       "      <th>powerplant_id</th>\n",
       "      <th>region_id</th>\n",
       "      <th>distribution_date</th>\n",
       "      <th>energy_supplied</th>\n",
       "      <th>plant_name</th>\n",
       "      <th>capacity</th>\n",
       "      <th>plant_type</th>\n",
       "      <th>operator_id</th>\n",
       "      <th>region_name</th>\n",
       "      <th>area</th>\n",
       "      <th>population</th>\n",
       "      <th>operator_name</th>\n",
       "      <th>contact</th>\n",
       "    </tr>\n",
       "  </thead>\n",
       "  <tbody>\n",
       "    <tr>\n",
       "      <th>98</th>\n",
       "      <td>1</td>\n",
       "      <td>36</td>\n",
       "      <td>2025-02-22</td>\n",
       "      <td>2457</td>\n",
       "      <td>Jones-Alvarez</td>\n",
       "      <td>419</td>\n",
       "      <td>Nuclear</td>\n",
       "      <td>11</td>\n",
       "      <td>suggest</td>\n",
       "      <td>1365</td>\n",
       "      <td>638048</td>\n",
       "      <td>Nancy Taylor</td>\n",
       "      <td>456.498.4947</td>\n",
       "    </tr>\n",
       "    <tr>\n",
       "      <th>567</th>\n",
       "      <td>1</td>\n",
       "      <td>15</td>\n",
       "      <td>2025-02-15</td>\n",
       "      <td>7702</td>\n",
       "      <td>Jones-Alvarez</td>\n",
       "      <td>419</td>\n",
       "      <td>Nuclear</td>\n",
       "      <td>11</td>\n",
       "      <td>product</td>\n",
       "      <td>4684</td>\n",
       "      <td>162531</td>\n",
       "      <td>Nancy Taylor</td>\n",
       "      <td>456.498.4947</td>\n",
       "    </tr>\n",
       "    <tr>\n",
       "      <th>552</th>\n",
       "      <td>1</td>\n",
       "      <td>12</td>\n",
       "      <td>2025-02-16</td>\n",
       "      <td>7202</td>\n",
       "      <td>Jones-Alvarez</td>\n",
       "      <td>419</td>\n",
       "      <td>Nuclear</td>\n",
       "      <td>11</td>\n",
       "      <td>draw</td>\n",
       "      <td>7439</td>\n",
       "      <td>732796</td>\n",
       "      <td>Nancy Taylor</td>\n",
       "      <td>456.498.4947</td>\n",
       "    </tr>\n",
       "    <tr>\n",
       "      <th>207</th>\n",
       "      <td>1</td>\n",
       "      <td>31</td>\n",
       "      <td>2025-01-16</td>\n",
       "      <td>8229</td>\n",
       "      <td>Jones-Alvarez</td>\n",
       "      <td>419</td>\n",
       "      <td>Nuclear</td>\n",
       "      <td>11</td>\n",
       "      <td>main</td>\n",
       "      <td>371</td>\n",
       "      <td>337108</td>\n",
       "      <td>Nancy Taylor</td>\n",
       "      <td>456.498.4947</td>\n",
       "    </tr>\n",
       "    <tr>\n",
       "      <th>421</th>\n",
       "      <td>1</td>\n",
       "      <td>37</td>\n",
       "      <td>2025-01-31</td>\n",
       "      <td>8375</td>\n",
       "      <td>Jones-Alvarez</td>\n",
       "      <td>419</td>\n",
       "      <td>Nuclear</td>\n",
       "      <td>11</td>\n",
       "      <td>girl</td>\n",
       "      <td>7259</td>\n",
       "      <td>155879</td>\n",
       "      <td>Nancy Taylor</td>\n",
       "      <td>456.498.4947</td>\n",
       "    </tr>\n",
       "    <tr>\n",
       "      <th>148</th>\n",
       "      <td>1</td>\n",
       "      <td>6</td>\n",
       "      <td>2025-01-27</td>\n",
       "      <td>2334</td>\n",
       "      <td>Jones-Alvarez</td>\n",
       "      <td>419</td>\n",
       "      <td>Nuclear</td>\n",
       "      <td>11</td>\n",
       "      <td>wall</td>\n",
       "      <td>1707</td>\n",
       "      <td>496580</td>\n",
       "      <td>Nancy Taylor</td>\n",
       "      <td>456.498.4947</td>\n",
       "    </tr>\n",
       "  </tbody>\n",
       "</table>\n",
       "</div>"
      ],
      "text/plain": [
       "     powerplant_id  region_id distribution_date  energy_supplied  \\\n",
       "98               1         36        2025-02-22             2457   \n",
       "567              1         15        2025-02-15             7702   \n",
       "552              1         12        2025-02-16             7202   \n",
       "207              1         31        2025-01-16             8229   \n",
       "421              1         37        2025-01-31             8375   \n",
       "148              1          6        2025-01-27             2334   \n",
       "\n",
       "        plant_name  capacity plant_type  operator_id region_name  area  \\\n",
       "98   Jones-Alvarez       419    Nuclear           11     suggest  1365   \n",
       "567  Jones-Alvarez       419    Nuclear           11     product  4684   \n",
       "552  Jones-Alvarez       419    Nuclear           11        draw  7439   \n",
       "207  Jones-Alvarez       419    Nuclear           11        main   371   \n",
       "421  Jones-Alvarez       419    Nuclear           11        girl  7259   \n",
       "148  Jones-Alvarez       419    Nuclear           11        wall  1707   \n",
       "\n",
       "     population operator_name       contact  \n",
       "98       638048  Nancy Taylor  456.498.4947  \n",
       "567      162531  Nancy Taylor  456.498.4947  \n",
       "552      732796  Nancy Taylor  456.498.4947  \n",
       "207      337108  Nancy Taylor  456.498.4947  \n",
       "421      155879  Nancy Taylor  456.498.4947  \n",
       "148      496580  Nancy Taylor  456.498.4947  "
      ]
     },
     "execution_count": 7,
     "metadata": {},
     "output_type": "execute_result"
    }
   ],
   "source": [
    "df.sort_values('powerplant_id').head(6)"
   ]
  },
  {
   "cell_type": "code",
   "execution_count": 14,
   "id": "11886023-24bd-4d95-9174-93289c8987e3",
   "metadata": {},
   "outputs": [],
   "source": [
    "Powerplant = df.loc[:,['powerplant_id','plant_name','capacity','plant_type', 'operator_id']]"
   ]
  },
  {
   "cell_type": "code",
   "execution_count": 16,
   "id": "82b858df-b0f0-4161-89d8-367f3796e5d9",
   "metadata": {},
   "outputs": [
    {
     "data": {
      "text/html": [
       "<div>\n",
       "<style scoped>\n",
       "    .dataframe tbody tr th:only-of-type {\n",
       "        vertical-align: middle;\n",
       "    }\n",
       "\n",
       "    .dataframe tbody tr th {\n",
       "        vertical-align: top;\n",
       "    }\n",
       "\n",
       "    .dataframe thead th {\n",
       "        text-align: right;\n",
       "    }\n",
       "</style>\n",
       "<table border=\"1\" class=\"dataframe\">\n",
       "  <thead>\n",
       "    <tr style=\"text-align: right;\">\n",
       "      <th></th>\n",
       "      <th>powerplant_id</th>\n",
       "      <th>plant_name</th>\n",
       "      <th>capacity</th>\n",
       "      <th>plant_type</th>\n",
       "      <th>operator_id</th>\n",
       "    </tr>\n",
       "  </thead>\n",
       "  <tbody>\n",
       "    <tr>\n",
       "      <th>0</th>\n",
       "      <td>76</td>\n",
       "      <td>Ramirez LLC</td>\n",
       "      <td>515</td>\n",
       "      <td>Solar</td>\n",
       "      <td>2</td>\n",
       "    </tr>\n",
       "    <tr>\n",
       "      <th>1</th>\n",
       "      <td>98</td>\n",
       "      <td>Schaefer and Sons</td>\n",
       "      <td>738</td>\n",
       "      <td>Nuclear</td>\n",
       "      <td>15</td>\n",
       "    </tr>\n",
       "    <tr>\n",
       "      <th>2</th>\n",
       "      <td>3</td>\n",
       "      <td>Brown Inc</td>\n",
       "      <td>438</td>\n",
       "      <td>Wind</td>\n",
       "      <td>18</td>\n",
       "    </tr>\n",
       "  </tbody>\n",
       "</table>\n",
       "</div>"
      ],
      "text/plain": [
       "   powerplant_id         plant_name  capacity plant_type  operator_id\n",
       "0             76        Ramirez LLC       515      Solar            2\n",
       "1             98  Schaefer and Sons       738    Nuclear           15\n",
       "2              3          Brown Inc       438       Wind           18"
      ]
     },
     "execution_count": 16,
     "metadata": {},
     "output_type": "execute_result"
    }
   ],
   "source": [
    "Powerplant.head(3)"
   ]
  },
  {
   "cell_type": "code",
   "execution_count": 18,
   "id": "80eb5bb4-df08-499c-b56d-b5fb3fae3823",
   "metadata": {},
   "outputs": [],
   "source": [
    "Powerplant.columns=['id', 'name', 'capacity', 'type', 'operator id']"
   ]
  },
  {
   "cell_type": "code",
   "execution_count": 20,
   "id": "9ffdbd06-3d67-423f-8ef0-92f95ccaccfb",
   "metadata": {},
   "outputs": [
    {
     "data": {
      "text/plain": [
       "100"
      ]
     },
     "execution_count": 20,
     "metadata": {},
     "output_type": "execute_result"
    }
   ],
   "source": [
    "len(Powerplant['id'].unique())"
   ]
  },
  {
   "cell_type": "code",
   "execution_count": 22,
   "id": "6035620f-c96e-4567-b19f-2d5e6e399837",
   "metadata": {},
   "outputs": [
    {
     "data": {
      "text/plain": [
       "800"
      ]
     },
     "execution_count": 22,
     "metadata": {},
     "output_type": "execute_result"
    }
   ],
   "source": [
    "len(Powerplant)"
   ]
  },
  {
   "cell_type": "code",
   "execution_count": 24,
   "id": "bc345d35-85d2-46c8-a956-46a61409aca3",
   "metadata": {},
   "outputs": [],
   "source": [
    "Powerplant.drop_duplicates(subset='id',inplace=True)"
   ]
  },
  {
   "cell_type": "code",
   "execution_count": 26,
   "id": "69860e33-0d35-4b4b-a4e5-3347f10cfc0b",
   "metadata": {},
   "outputs": [
    {
     "data": {
      "text/plain": [
       "100"
      ]
     },
     "execution_count": 26,
     "metadata": {},
     "output_type": "execute_result"
    }
   ],
   "source": [
    "len(Powerplant)"
   ]
  },
  {
   "cell_type": "code",
   "execution_count": 28,
   "id": "67f4985a-5035-4752-9fc2-937179d213c0",
   "metadata": {},
   "outputs": [
    {
     "data": {
      "text/html": [
       "<div>\n",
       "<style scoped>\n",
       "    .dataframe tbody tr th:only-of-type {\n",
       "        vertical-align: middle;\n",
       "    }\n",
       "\n",
       "    .dataframe tbody tr th {\n",
       "        vertical-align: top;\n",
       "    }\n",
       "\n",
       "    .dataframe thead th {\n",
       "        text-align: right;\n",
       "    }\n",
       "</style>\n",
       "<table border=\"1\" class=\"dataframe\">\n",
       "  <thead>\n",
       "    <tr style=\"text-align: right;\">\n",
       "      <th></th>\n",
       "      <th>id</th>\n",
       "      <th>name</th>\n",
       "      <th>capacity</th>\n",
       "      <th>type</th>\n",
       "      <th>operator id</th>\n",
       "    </tr>\n",
       "  </thead>\n",
       "  <tbody>\n",
       "    <tr>\n",
       "      <th>0</th>\n",
       "      <td>76</td>\n",
       "      <td>Ramirez LLC</td>\n",
       "      <td>515</td>\n",
       "      <td>Solar</td>\n",
       "      <td>2</td>\n",
       "    </tr>\n",
       "    <tr>\n",
       "      <th>1</th>\n",
       "      <td>98</td>\n",
       "      <td>Schaefer and Sons</td>\n",
       "      <td>738</td>\n",
       "      <td>Nuclear</td>\n",
       "      <td>15</td>\n",
       "    </tr>\n",
       "    <tr>\n",
       "      <th>2</th>\n",
       "      <td>3</td>\n",
       "      <td>Brown Inc</td>\n",
       "      <td>438</td>\n",
       "      <td>Wind</td>\n",
       "      <td>18</td>\n",
       "    </tr>\n",
       "  </tbody>\n",
       "</table>\n",
       "</div>"
      ],
      "text/plain": [
       "   id               name  capacity     type  operator id\n",
       "0  76        Ramirez LLC       515    Solar            2\n",
       "1  98  Schaefer and Sons       738  Nuclear           15\n",
       "2   3          Brown Inc       438     Wind           18"
      ]
     },
     "execution_count": 28,
     "metadata": {},
     "output_type": "execute_result"
    }
   ],
   "source": [
    "Powerplant.head(3)"
   ]
  },
  {
   "cell_type": "code",
   "execution_count": 30,
   "id": "550e3deb-7d91-40ae-8a95-3386b52f0b30",
   "metadata": {},
   "outputs": [],
   "source": [
    "from sqlalchemy import create_engine"
   ]
  },
  {
   "cell_type": "code",
   "execution_count": 31,
   "id": "e5cca011-3676-4ef4-8812-a8680d9fc27e",
   "metadata": {},
   "outputs": [],
   "source": [
    "engine = create_engine('sqlite:///Energy.db')"
   ]
  },
  {
   "cell_type": "code",
   "execution_count": 32,
   "id": "34d51e04-4412-4f6d-81c3-62f1cc9f693c",
   "metadata": {},
   "outputs": [
    {
     "data": {
      "text/plain": [
       "100"
      ]
     },
     "execution_count": 32,
     "metadata": {},
     "output_type": "execute_result"
    }
   ],
   "source": [
    "Powerplant.to_sql('Powerplant', con =engine, if_exists='replace', index=False)"
   ]
  },
  {
   "cell_type": "code",
   "execution_count": 33,
   "id": "a41b2cce-7bc5-4626-9632-be5ddca05b00",
   "metadata": {},
   "outputs": [
    {
     "data": {
      "text/html": [
       "<div>\n",
       "<style scoped>\n",
       "    .dataframe tbody tr th:only-of-type {\n",
       "        vertical-align: middle;\n",
       "    }\n",
       "\n",
       "    .dataframe tbody tr th {\n",
       "        vertical-align: top;\n",
       "    }\n",
       "\n",
       "    .dataframe thead th {\n",
       "        text-align: right;\n",
       "    }\n",
       "</style>\n",
       "<table border=\"1\" class=\"dataframe\">\n",
       "  <thead>\n",
       "    <tr style=\"text-align: right;\">\n",
       "      <th></th>\n",
       "      <th>powerplant_id</th>\n",
       "      <th>region_id</th>\n",
       "      <th>distribution_date</th>\n",
       "      <th>energy_supplied</th>\n",
       "      <th>plant_name</th>\n",
       "      <th>capacity</th>\n",
       "      <th>plant_type</th>\n",
       "      <th>operator_id</th>\n",
       "      <th>region_name</th>\n",
       "      <th>area</th>\n",
       "      <th>population</th>\n",
       "      <th>operator_name</th>\n",
       "      <th>contact</th>\n",
       "    </tr>\n",
       "  </thead>\n",
       "  <tbody>\n",
       "    <tr>\n",
       "      <th>395</th>\n",
       "      <td>21</td>\n",
       "      <td>1</td>\n",
       "      <td>2025-01-11</td>\n",
       "      <td>5114</td>\n",
       "      <td>Gomez-Lewis</td>\n",
       "      <td>915</td>\n",
       "      <td>Wind</td>\n",
       "      <td>14</td>\n",
       "      <td>yourself</td>\n",
       "      <td>6875</td>\n",
       "      <td>283881</td>\n",
       "      <td>Eric James</td>\n",
       "      <td>631-884-7163x6622</td>\n",
       "    </tr>\n",
       "    <tr>\n",
       "      <th>350</th>\n",
       "      <td>26</td>\n",
       "      <td>1</td>\n",
       "      <td>2025-02-08</td>\n",
       "      <td>3982</td>\n",
       "      <td>Farmer-Moore</td>\n",
       "      <td>460</td>\n",
       "      <td>Hydro</td>\n",
       "      <td>13</td>\n",
       "      <td>yourself</td>\n",
       "      <td>6875</td>\n",
       "      <td>283881</td>\n",
       "      <td>Amanda Brewer</td>\n",
       "      <td>+1-709-384-6793x40569</td>\n",
       "    </tr>\n",
       "    <tr>\n",
       "      <th>234</th>\n",
       "      <td>43</td>\n",
       "      <td>1</td>\n",
       "      <td>2025-01-10</td>\n",
       "      <td>4727</td>\n",
       "      <td>Hayes-Morgan</td>\n",
       "      <td>246</td>\n",
       "      <td>Nuclear</td>\n",
       "      <td>14</td>\n",
       "      <td>yourself</td>\n",
       "      <td>6875</td>\n",
       "      <td>283881</td>\n",
       "      <td>Eric James</td>\n",
       "      <td>631-884-7163x6622</td>\n",
       "    </tr>\n",
       "    <tr>\n",
       "      <th>418</th>\n",
       "      <td>84</td>\n",
       "      <td>1</td>\n",
       "      <td>2025-01-25</td>\n",
       "      <td>790</td>\n",
       "      <td>Hardin PLC</td>\n",
       "      <td>346</td>\n",
       "      <td>Nuclear</td>\n",
       "      <td>10</td>\n",
       "      <td>yourself</td>\n",
       "      <td>6875</td>\n",
       "      <td>283881</td>\n",
       "      <td>Joseph Avery</td>\n",
       "      <td>(675)499-8210x26579</td>\n",
       "    </tr>\n",
       "    <tr>\n",
       "      <th>208</th>\n",
       "      <td>85</td>\n",
       "      <td>1</td>\n",
       "      <td>2025-01-28</td>\n",
       "      <td>3654</td>\n",
       "      <td>Robinson-Brewer</td>\n",
       "      <td>190</td>\n",
       "      <td>Wind</td>\n",
       "      <td>7</td>\n",
       "      <td>yourself</td>\n",
       "      <td>6875</td>\n",
       "      <td>283881</td>\n",
       "      <td>Andrew Molina</td>\n",
       "      <td>260-952-5460x9017</td>\n",
       "    </tr>\n",
       "    <tr>\n",
       "      <th>501</th>\n",
       "      <td>57</td>\n",
       "      <td>1</td>\n",
       "      <td>2025-02-06</td>\n",
       "      <td>7998</td>\n",
       "      <td>Goodman LLC</td>\n",
       "      <td>821</td>\n",
       "      <td>Wind</td>\n",
       "      <td>16</td>\n",
       "      <td>yourself</td>\n",
       "      <td>6875</td>\n",
       "      <td>283881</td>\n",
       "      <td>Jaime Schmidt</td>\n",
       "      <td>469.261.3586x0432</td>\n",
       "    </tr>\n",
       "  </tbody>\n",
       "</table>\n",
       "</div>"
      ],
      "text/plain": [
       "     powerplant_id  region_id distribution_date  energy_supplied  \\\n",
       "395             21          1        2025-01-11             5114   \n",
       "350             26          1        2025-02-08             3982   \n",
       "234             43          1        2025-01-10             4727   \n",
       "418             84          1        2025-01-25              790   \n",
       "208             85          1        2025-01-28             3654   \n",
       "501             57          1        2025-02-06             7998   \n",
       "\n",
       "          plant_name  capacity plant_type  operator_id region_name  area  \\\n",
       "395      Gomez-Lewis       915       Wind           14    yourself  6875   \n",
       "350     Farmer-Moore       460      Hydro           13    yourself  6875   \n",
       "234     Hayes-Morgan       246    Nuclear           14    yourself  6875   \n",
       "418       Hardin PLC       346    Nuclear           10    yourself  6875   \n",
       "208  Robinson-Brewer       190       Wind            7    yourself  6875   \n",
       "501      Goodman LLC       821       Wind           16    yourself  6875   \n",
       "\n",
       "     population  operator_name                contact  \n",
       "395      283881     Eric James      631-884-7163x6622  \n",
       "350      283881  Amanda Brewer  +1-709-384-6793x40569  \n",
       "234      283881     Eric James      631-884-7163x6622  \n",
       "418      283881   Joseph Avery    (675)499-8210x26579  \n",
       "208      283881  Andrew Molina      260-952-5460x9017  \n",
       "501      283881  Jaime Schmidt      469.261.3586x0432  "
      ]
     },
     "execution_count": 33,
     "metadata": {},
     "output_type": "execute_result"
    }
   ],
   "source": [
    "df.sort_values('region_id').head(6)"
   ]
  },
  {
   "cell_type": "code",
   "execution_count": 34,
   "id": "5ee974c3-b47f-4e91-916f-7e36f8b058ac",
   "metadata": {},
   "outputs": [],
   "source": [
    "Region = df.loc[:,['region_id','region_name','area', 'population']]"
   ]
  },
  {
   "cell_type": "code",
   "execution_count": 35,
   "id": "2bfbd17e-8ba3-4ac7-ac38-6bafb4305c19",
   "metadata": {},
   "outputs": [
    {
     "data": {
      "text/html": [
       "<div>\n",
       "<style scoped>\n",
       "    .dataframe tbody tr th:only-of-type {\n",
       "        vertical-align: middle;\n",
       "    }\n",
       "\n",
       "    .dataframe tbody tr th {\n",
       "        vertical-align: top;\n",
       "    }\n",
       "\n",
       "    .dataframe thead th {\n",
       "        text-align: right;\n",
       "    }\n",
       "</style>\n",
       "<table border=\"1\" class=\"dataframe\">\n",
       "  <thead>\n",
       "    <tr style=\"text-align: right;\">\n",
       "      <th></th>\n",
       "      <th>region_id</th>\n",
       "      <th>region_name</th>\n",
       "      <th>area</th>\n",
       "      <th>population</th>\n",
       "    </tr>\n",
       "  </thead>\n",
       "  <tbody>\n",
       "    <tr>\n",
       "      <th>0</th>\n",
       "      <td>25</td>\n",
       "      <td>treatment</td>\n",
       "      <td>4393</td>\n",
       "      <td>700514</td>\n",
       "    </tr>\n",
       "    <tr>\n",
       "      <th>1</th>\n",
       "      <td>5</td>\n",
       "      <td>leader</td>\n",
       "      <td>4787</td>\n",
       "      <td>957156</td>\n",
       "    </tr>\n",
       "    <tr>\n",
       "      <th>2</th>\n",
       "      <td>26</td>\n",
       "      <td>with</td>\n",
       "      <td>154</td>\n",
       "      <td>217686</td>\n",
       "    </tr>\n",
       "  </tbody>\n",
       "</table>\n",
       "</div>"
      ],
      "text/plain": [
       "   region_id region_name  area  population\n",
       "0         25   treatment  4393      700514\n",
       "1          5      leader  4787      957156\n",
       "2         26        with   154      217686"
      ]
     },
     "execution_count": 35,
     "metadata": {},
     "output_type": "execute_result"
    }
   ],
   "source": [
    "Region.head(3)"
   ]
  },
  {
   "cell_type": "code",
   "execution_count": 36,
   "id": "67d80d8b-7255-4bc4-84b4-399c153ea152",
   "metadata": {},
   "outputs": [],
   "source": [
    "Region.columns=['id', 'name', 'area', 'population']"
   ]
  },
  {
   "cell_type": "code",
   "execution_count": 38,
   "id": "24d4ba77-3242-449e-9f99-c49c493eb76c",
   "metadata": {},
   "outputs": [
    {
     "data": {
      "text/plain": [
       "50"
      ]
     },
     "execution_count": 38,
     "metadata": {},
     "output_type": "execute_result"
    }
   ],
   "source": [
    "len(Region['id'].unique())"
   ]
  },
  {
   "cell_type": "code",
   "execution_count": 41,
   "id": "c85ae7eb-3937-4633-9ed6-951a27f23329",
   "metadata": {},
   "outputs": [
    {
     "data": {
      "text/plain": [
       "800"
      ]
     },
     "execution_count": 41,
     "metadata": {},
     "output_type": "execute_result"
    }
   ],
   "source": [
    "len(Region)"
   ]
  },
  {
   "cell_type": "code",
   "execution_count": 46,
   "id": "d66e8fc0-72b2-45f0-98d8-f73b5bc3c38b",
   "metadata": {},
   "outputs": [],
   "source": [
    "Region.drop_duplicates(subset='id',inplace=True)"
   ]
  },
  {
   "cell_type": "code",
   "execution_count": 49,
   "id": "c77bd012-8a59-4f4a-bf40-33d0305aabd6",
   "metadata": {},
   "outputs": [
    {
     "data": {
      "text/plain": [
       "50"
      ]
     },
     "execution_count": 49,
     "metadata": {},
     "output_type": "execute_result"
    }
   ],
   "source": [
    "len(Region)"
   ]
  },
  {
   "cell_type": "code",
   "execution_count": 52,
   "id": "070f63d3-72a8-4a36-a440-92dc61fb8316",
   "metadata": {},
   "outputs": [
    {
     "data": {
      "text/html": [
       "<div>\n",
       "<style scoped>\n",
       "    .dataframe tbody tr th:only-of-type {\n",
       "        vertical-align: middle;\n",
       "    }\n",
       "\n",
       "    .dataframe tbody tr th {\n",
       "        vertical-align: top;\n",
       "    }\n",
       "\n",
       "    .dataframe thead th {\n",
       "        text-align: right;\n",
       "    }\n",
       "</style>\n",
       "<table border=\"1\" class=\"dataframe\">\n",
       "  <thead>\n",
       "    <tr style=\"text-align: right;\">\n",
       "      <th></th>\n",
       "      <th>id</th>\n",
       "      <th>name</th>\n",
       "      <th>area</th>\n",
       "      <th>population</th>\n",
       "    </tr>\n",
       "  </thead>\n",
       "  <tbody>\n",
       "    <tr>\n",
       "      <th>0</th>\n",
       "      <td>25</td>\n",
       "      <td>treatment</td>\n",
       "      <td>4393</td>\n",
       "      <td>700514</td>\n",
       "    </tr>\n",
       "    <tr>\n",
       "      <th>1</th>\n",
       "      <td>5</td>\n",
       "      <td>leader</td>\n",
       "      <td>4787</td>\n",
       "      <td>957156</td>\n",
       "    </tr>\n",
       "    <tr>\n",
       "      <th>2</th>\n",
       "      <td>26</td>\n",
       "      <td>with</td>\n",
       "      <td>154</td>\n",
       "      <td>217686</td>\n",
       "    </tr>\n",
       "  </tbody>\n",
       "</table>\n",
       "</div>"
      ],
      "text/plain": [
       "   id       name  area  population\n",
       "0  25  treatment  4393      700514\n",
       "1   5     leader  4787      957156\n",
       "2  26       with   154      217686"
      ]
     },
     "execution_count": 52,
     "metadata": {},
     "output_type": "execute_result"
    }
   ],
   "source": [
    "Region.head(3)"
   ]
  },
  {
   "cell_type": "code",
   "execution_count": 54,
   "id": "bebb64ed-ec32-4568-8060-faa5ed2901c9",
   "metadata": {},
   "outputs": [
    {
     "data": {
      "text/plain": [
       "50"
      ]
     },
     "execution_count": 54,
     "metadata": {},
     "output_type": "execute_result"
    }
   ],
   "source": [
    "Region.to_sql('Region', con =engine, if_exists='replace', index=False)"
   ]
  },
  {
   "cell_type": "code",
   "execution_count": 56,
   "id": "16406e03-f675-4dc1-b5d4-6edfdfd4e7d7",
   "metadata": {},
   "outputs": [
    {
     "data": {
      "text/html": [
       "<div>\n",
       "<style scoped>\n",
       "    .dataframe tbody tr th:only-of-type {\n",
       "        vertical-align: middle;\n",
       "    }\n",
       "\n",
       "    .dataframe tbody tr th {\n",
       "        vertical-align: top;\n",
       "    }\n",
       "\n",
       "    .dataframe thead th {\n",
       "        text-align: right;\n",
       "    }\n",
       "</style>\n",
       "<table border=\"1\" class=\"dataframe\">\n",
       "  <thead>\n",
       "    <tr style=\"text-align: right;\">\n",
       "      <th></th>\n",
       "      <th>powerplant_id</th>\n",
       "      <th>region_id</th>\n",
       "      <th>distribution_date</th>\n",
       "      <th>energy_supplied</th>\n",
       "      <th>plant_name</th>\n",
       "      <th>capacity</th>\n",
       "      <th>plant_type</th>\n",
       "      <th>operator_id</th>\n",
       "      <th>region_name</th>\n",
       "      <th>area</th>\n",
       "      <th>population</th>\n",
       "      <th>operator_name</th>\n",
       "      <th>contact</th>\n",
       "    </tr>\n",
       "  </thead>\n",
       "  <tbody>\n",
       "    <tr>\n",
       "      <th>450</th>\n",
       "      <td>86</td>\n",
       "      <td>16</td>\n",
       "      <td>2025-01-18</td>\n",
       "      <td>6518</td>\n",
       "      <td>Thompson Group</td>\n",
       "      <td>378</td>\n",
       "      <td>Nuclear</td>\n",
       "      <td>1</td>\n",
       "      <td>since</td>\n",
       "      <td>8610</td>\n",
       "      <td>173045</td>\n",
       "      <td>Geoffrey Rowe</td>\n",
       "      <td>+1-470-992-8199x713</td>\n",
       "    </tr>\n",
       "    <tr>\n",
       "      <th>556</th>\n",
       "      <td>39</td>\n",
       "      <td>28</td>\n",
       "      <td>2025-01-20</td>\n",
       "      <td>6319</td>\n",
       "      <td>Phillips-Glass</td>\n",
       "      <td>104</td>\n",
       "      <td>Hydro</td>\n",
       "      <td>1</td>\n",
       "      <td>sometimes</td>\n",
       "      <td>3855</td>\n",
       "      <td>939660</td>\n",
       "      <td>Geoffrey Rowe</td>\n",
       "      <td>+1-470-992-8199x713</td>\n",
       "    </tr>\n",
       "    <tr>\n",
       "      <th>548</th>\n",
       "      <td>39</td>\n",
       "      <td>31</td>\n",
       "      <td>2025-01-27</td>\n",
       "      <td>3253</td>\n",
       "      <td>Phillips-Glass</td>\n",
       "      <td>104</td>\n",
       "      <td>Hydro</td>\n",
       "      <td>1</td>\n",
       "      <td>main</td>\n",
       "      <td>371</td>\n",
       "      <td>337108</td>\n",
       "      <td>Geoffrey Rowe</td>\n",
       "      <td>+1-470-992-8199x713</td>\n",
       "    </tr>\n",
       "    <tr>\n",
       "      <th>517</th>\n",
       "      <td>86</td>\n",
       "      <td>26</td>\n",
       "      <td>2025-01-01</td>\n",
       "      <td>1687</td>\n",
       "      <td>Thompson Group</td>\n",
       "      <td>378</td>\n",
       "      <td>Nuclear</td>\n",
       "      <td>1</td>\n",
       "      <td>with</td>\n",
       "      <td>154</td>\n",
       "      <td>217686</td>\n",
       "      <td>Geoffrey Rowe</td>\n",
       "      <td>+1-470-992-8199x713</td>\n",
       "    </tr>\n",
       "    <tr>\n",
       "      <th>515</th>\n",
       "      <td>56</td>\n",
       "      <td>28</td>\n",
       "      <td>2025-02-12</td>\n",
       "      <td>3389</td>\n",
       "      <td>Christensen Ltd</td>\n",
       "      <td>714</td>\n",
       "      <td>Solar</td>\n",
       "      <td>1</td>\n",
       "      <td>sometimes</td>\n",
       "      <td>3855</td>\n",
       "      <td>939660</td>\n",
       "      <td>Geoffrey Rowe</td>\n",
       "      <td>+1-470-992-8199x713</td>\n",
       "    </tr>\n",
       "    <tr>\n",
       "      <th>498</th>\n",
       "      <td>97</td>\n",
       "      <td>41</td>\n",
       "      <td>2025-01-16</td>\n",
       "      <td>8863</td>\n",
       "      <td>Smith PLC</td>\n",
       "      <td>155</td>\n",
       "      <td>Nuclear</td>\n",
       "      <td>1</td>\n",
       "      <td>probably</td>\n",
       "      <td>4696</td>\n",
       "      <td>454566</td>\n",
       "      <td>Geoffrey Rowe</td>\n",
       "      <td>+1-470-992-8199x713</td>\n",
       "    </tr>\n",
       "  </tbody>\n",
       "</table>\n",
       "</div>"
      ],
      "text/plain": [
       "     powerplant_id  region_id distribution_date  energy_supplied  \\\n",
       "450             86         16        2025-01-18             6518   \n",
       "556             39         28        2025-01-20             6319   \n",
       "548             39         31        2025-01-27             3253   \n",
       "517             86         26        2025-01-01             1687   \n",
       "515             56         28        2025-02-12             3389   \n",
       "498             97         41        2025-01-16             8863   \n",
       "\n",
       "          plant_name  capacity plant_type  operator_id region_name  area  \\\n",
       "450   Thompson Group       378    Nuclear            1       since  8610   \n",
       "556   Phillips-Glass       104      Hydro            1   sometimes  3855   \n",
       "548   Phillips-Glass       104      Hydro            1        main   371   \n",
       "517   Thompson Group       378    Nuclear            1        with   154   \n",
       "515  Christensen Ltd       714      Solar            1   sometimes  3855   \n",
       "498        Smith PLC       155    Nuclear            1    probably  4696   \n",
       "\n",
       "     population  operator_name              contact  \n",
       "450      173045  Geoffrey Rowe  +1-470-992-8199x713  \n",
       "556      939660  Geoffrey Rowe  +1-470-992-8199x713  \n",
       "548      337108  Geoffrey Rowe  +1-470-992-8199x713  \n",
       "517      217686  Geoffrey Rowe  +1-470-992-8199x713  \n",
       "515      939660  Geoffrey Rowe  +1-470-992-8199x713  \n",
       "498      454566  Geoffrey Rowe  +1-470-992-8199x713  "
      ]
     },
     "execution_count": 56,
     "metadata": {},
     "output_type": "execute_result"
    }
   ],
   "source": [
    "df.sort_values('operator_id').head(6)"
   ]
  },
  {
   "cell_type": "code",
   "execution_count": 58,
   "id": "4e7ccf92-c99f-43d8-b381-b7c264670731",
   "metadata": {},
   "outputs": [],
   "source": [
    "GridOperator = df.loc[:,['operator_id','operator_name','contact']]"
   ]
  },
  {
   "cell_type": "code",
   "execution_count": 60,
   "id": "34e58108-742b-4c69-aa4c-140cde6a0be2",
   "metadata": {},
   "outputs": [
    {
     "data": {
      "text/html": [
       "<div>\n",
       "<style scoped>\n",
       "    .dataframe tbody tr th:only-of-type {\n",
       "        vertical-align: middle;\n",
       "    }\n",
       "\n",
       "    .dataframe tbody tr th {\n",
       "        vertical-align: top;\n",
       "    }\n",
       "\n",
       "    .dataframe thead th {\n",
       "        text-align: right;\n",
       "    }\n",
       "</style>\n",
       "<table border=\"1\" class=\"dataframe\">\n",
       "  <thead>\n",
       "    <tr style=\"text-align: right;\">\n",
       "      <th></th>\n",
       "      <th>operator_id</th>\n",
       "      <th>operator_name</th>\n",
       "      <th>contact</th>\n",
       "    </tr>\n",
       "  </thead>\n",
       "  <tbody>\n",
       "    <tr>\n",
       "      <th>0</th>\n",
       "      <td>2</td>\n",
       "      <td>Karla Williams</td>\n",
       "      <td>746.435.9498</td>\n",
       "    </tr>\n",
       "    <tr>\n",
       "      <th>1</th>\n",
       "      <td>15</td>\n",
       "      <td>Thomas Ramsey Jr.</td>\n",
       "      <td>974-935-3350</td>\n",
       "    </tr>\n",
       "    <tr>\n",
       "      <th>2</th>\n",
       "      <td>18</td>\n",
       "      <td>Alexander Peck</td>\n",
       "      <td>596.919.9974</td>\n",
       "    </tr>\n",
       "  </tbody>\n",
       "</table>\n",
       "</div>"
      ],
      "text/plain": [
       "   operator_id      operator_name       contact\n",
       "0            2     Karla Williams  746.435.9498\n",
       "1           15  Thomas Ramsey Jr.  974-935-3350\n",
       "2           18     Alexander Peck  596.919.9974"
      ]
     },
     "execution_count": 60,
     "metadata": {},
     "output_type": "execute_result"
    }
   ],
   "source": [
    "GridOperator.head(3)"
   ]
  },
  {
   "cell_type": "code",
   "execution_count": 62,
   "id": "58da8e5b-04f0-4950-ac44-02c974f6345b",
   "metadata": {},
   "outputs": [],
   "source": [
    "GridOperator.columns=['id', 'name', 'contact']"
   ]
  },
  {
   "cell_type": "code",
   "execution_count": 64,
   "id": "8cf9e50e-64cf-4962-bc40-f4da2e4e39b1",
   "metadata": {},
   "outputs": [
    {
     "data": {
      "text/plain": [
       "20"
      ]
     },
     "execution_count": 64,
     "metadata": {},
     "output_type": "execute_result"
    }
   ],
   "source": [
    "len(GridOperator['id'].unique())"
   ]
  },
  {
   "cell_type": "code",
   "execution_count": 66,
   "id": "5a6d506f-394f-432b-89cc-8046c1a89751",
   "metadata": {},
   "outputs": [
    {
     "data": {
      "text/plain": [
       "800"
      ]
     },
     "execution_count": 66,
     "metadata": {},
     "output_type": "execute_result"
    }
   ],
   "source": [
    "len(GridOperator)"
   ]
  },
  {
   "cell_type": "code",
   "execution_count": 68,
   "id": "ec1f36c4-490a-441b-b018-f139976f1690",
   "metadata": {},
   "outputs": [],
   "source": [
    "GridOperator.drop_duplicates(subset='id',inplace=True)"
   ]
  },
  {
   "cell_type": "code",
   "execution_count": 70,
   "id": "4e0c497f-abb7-4ca4-911f-571c7052eea2",
   "metadata": {},
   "outputs": [
    {
     "data": {
      "text/plain": [
       "20"
      ]
     },
     "execution_count": 70,
     "metadata": {},
     "output_type": "execute_result"
    }
   ],
   "source": [
    "len(GridOperator)"
   ]
  },
  {
   "cell_type": "code",
   "execution_count": 72,
   "id": "a17fba78-b81f-43b3-9c17-7fe02abacd22",
   "metadata": {},
   "outputs": [
    {
     "data": {
      "text/html": [
       "<div>\n",
       "<style scoped>\n",
       "    .dataframe tbody tr th:only-of-type {\n",
       "        vertical-align: middle;\n",
       "    }\n",
       "\n",
       "    .dataframe tbody tr th {\n",
       "        vertical-align: top;\n",
       "    }\n",
       "\n",
       "    .dataframe thead th {\n",
       "        text-align: right;\n",
       "    }\n",
       "</style>\n",
       "<table border=\"1\" class=\"dataframe\">\n",
       "  <thead>\n",
       "    <tr style=\"text-align: right;\">\n",
       "      <th></th>\n",
       "      <th>id</th>\n",
       "      <th>name</th>\n",
       "      <th>contact</th>\n",
       "    </tr>\n",
       "  </thead>\n",
       "  <tbody>\n",
       "    <tr>\n",
       "      <th>0</th>\n",
       "      <td>2</td>\n",
       "      <td>Karla Williams</td>\n",
       "      <td>746.435.9498</td>\n",
       "    </tr>\n",
       "    <tr>\n",
       "      <th>1</th>\n",
       "      <td>15</td>\n",
       "      <td>Thomas Ramsey Jr.</td>\n",
       "      <td>974-935-3350</td>\n",
       "    </tr>\n",
       "    <tr>\n",
       "      <th>2</th>\n",
       "      <td>18</td>\n",
       "      <td>Alexander Peck</td>\n",
       "      <td>596.919.9974</td>\n",
       "    </tr>\n",
       "  </tbody>\n",
       "</table>\n",
       "</div>"
      ],
      "text/plain": [
       "   id               name       contact\n",
       "0   2     Karla Williams  746.435.9498\n",
       "1  15  Thomas Ramsey Jr.  974-935-3350\n",
       "2  18     Alexander Peck  596.919.9974"
      ]
     },
     "execution_count": 72,
     "metadata": {},
     "output_type": "execute_result"
    }
   ],
   "source": [
    "GridOperator.head(3)"
   ]
  },
  {
   "cell_type": "code",
   "execution_count": 74,
   "id": "4a1e68ea-0281-4a71-ae16-370f4c61cd3c",
   "metadata": {},
   "outputs": [
    {
     "data": {
      "text/plain": [
       "20"
      ]
     },
     "execution_count": 74,
     "metadata": {},
     "output_type": "execute_result"
    }
   ],
   "source": [
    "GridOperator.to_sql('GridOperator', con =engine, if_exists='replace', index=False)"
   ]
  },
  {
   "cell_type": "code",
   "execution_count": 76,
   "id": "a3ff22f4-1e12-4323-a277-e50df7999bfc",
   "metadata": {},
   "outputs": [],
   "source": [
    "df['distribution_id'] = range(1, len(df) + 1)"
   ]
  },
  {
   "cell_type": "code",
   "execution_count": 78,
   "id": "01bac2d5-186d-4bff-9f12-08f799ca8372",
   "metadata": {},
   "outputs": [
    {
     "data": {
      "text/html": [
       "<div>\n",
       "<style scoped>\n",
       "    .dataframe tbody tr th:only-of-type {\n",
       "        vertical-align: middle;\n",
       "    }\n",
       "\n",
       "    .dataframe tbody tr th {\n",
       "        vertical-align: top;\n",
       "    }\n",
       "\n",
       "    .dataframe thead th {\n",
       "        text-align: right;\n",
       "    }\n",
       "</style>\n",
       "<table border=\"1\" class=\"dataframe\">\n",
       "  <thead>\n",
       "    <tr style=\"text-align: right;\">\n",
       "      <th></th>\n",
       "      <th>powerplant_id</th>\n",
       "      <th>region_id</th>\n",
       "      <th>distribution_date</th>\n",
       "      <th>energy_supplied</th>\n",
       "      <th>plant_name</th>\n",
       "      <th>capacity</th>\n",
       "      <th>plant_type</th>\n",
       "      <th>operator_id</th>\n",
       "      <th>region_name</th>\n",
       "      <th>area</th>\n",
       "      <th>population</th>\n",
       "      <th>operator_name</th>\n",
       "      <th>contact</th>\n",
       "      <th>distribution_id</th>\n",
       "    </tr>\n",
       "  </thead>\n",
       "  <tbody>\n",
       "    <tr>\n",
       "      <th>0</th>\n",
       "      <td>76</td>\n",
       "      <td>25</td>\n",
       "      <td>2025-01-25</td>\n",
       "      <td>1062</td>\n",
       "      <td>Ramirez LLC</td>\n",
       "      <td>515</td>\n",
       "      <td>Solar</td>\n",
       "      <td>2</td>\n",
       "      <td>treatment</td>\n",
       "      <td>4393</td>\n",
       "      <td>700514</td>\n",
       "      <td>Karla Williams</td>\n",
       "      <td>746.435.9498</td>\n",
       "      <td>1</td>\n",
       "    </tr>\n",
       "    <tr>\n",
       "      <th>1</th>\n",
       "      <td>98</td>\n",
       "      <td>5</td>\n",
       "      <td>2025-01-18</td>\n",
       "      <td>6961</td>\n",
       "      <td>Schaefer and Sons</td>\n",
       "      <td>738</td>\n",
       "      <td>Nuclear</td>\n",
       "      <td>15</td>\n",
       "      <td>leader</td>\n",
       "      <td>4787</td>\n",
       "      <td>957156</td>\n",
       "      <td>Thomas Ramsey Jr.</td>\n",
       "      <td>974-935-3350</td>\n",
       "      <td>2</td>\n",
       "    </tr>\n",
       "    <tr>\n",
       "      <th>2</th>\n",
       "      <td>3</td>\n",
       "      <td>26</td>\n",
       "      <td>2025-02-08</td>\n",
       "      <td>6987</td>\n",
       "      <td>Brown Inc</td>\n",
       "      <td>438</td>\n",
       "      <td>Wind</td>\n",
       "      <td>18</td>\n",
       "      <td>with</td>\n",
       "      <td>154</td>\n",
       "      <td>217686</td>\n",
       "      <td>Alexander Peck</td>\n",
       "      <td>596.919.9974</td>\n",
       "      <td>3</td>\n",
       "    </tr>\n",
       "    <tr>\n",
       "      <th>3</th>\n",
       "      <td>75</td>\n",
       "      <td>34</td>\n",
       "      <td>2025-01-08</td>\n",
       "      <td>3685</td>\n",
       "      <td>Moody-Jones</td>\n",
       "      <td>860</td>\n",
       "      <td>Nuclear</td>\n",
       "      <td>18</td>\n",
       "      <td>open</td>\n",
       "      <td>1610</td>\n",
       "      <td>182975</td>\n",
       "      <td>Alexander Peck</td>\n",
       "      <td>596.919.9974</td>\n",
       "      <td>4</td>\n",
       "    </tr>\n",
       "    <tr>\n",
       "      <th>4</th>\n",
       "      <td>91</td>\n",
       "      <td>23</td>\n",
       "      <td>2025-02-08</td>\n",
       "      <td>6581</td>\n",
       "      <td>Washington-Rodriguez</td>\n",
       "      <td>357</td>\n",
       "      <td>Wind</td>\n",
       "      <td>9</td>\n",
       "      <td>almost</td>\n",
       "      <td>7874</td>\n",
       "      <td>156719</td>\n",
       "      <td>Jesus Farmer</td>\n",
       "      <td>001-761-463-3181x90875</td>\n",
       "      <td>5</td>\n",
       "    </tr>\n",
       "    <tr>\n",
       "      <th>5</th>\n",
       "      <td>51</td>\n",
       "      <td>1</td>\n",
       "      <td>2025-01-23</td>\n",
       "      <td>2499</td>\n",
       "      <td>Rios-Davis</td>\n",
       "      <td>685</td>\n",
       "      <td>Nuclear</td>\n",
       "      <td>8</td>\n",
       "      <td>yourself</td>\n",
       "      <td>6875</td>\n",
       "      <td>283881</td>\n",
       "      <td>Jason Rogers</td>\n",
       "      <td>318.998.1018x29895</td>\n",
       "      <td>6</td>\n",
       "    </tr>\n",
       "  </tbody>\n",
       "</table>\n",
       "</div>"
      ],
      "text/plain": [
       "   powerplant_id  region_id distribution_date  energy_supplied  \\\n",
       "0             76         25        2025-01-25             1062   \n",
       "1             98          5        2025-01-18             6961   \n",
       "2              3         26        2025-02-08             6987   \n",
       "3             75         34        2025-01-08             3685   \n",
       "4             91         23        2025-02-08             6581   \n",
       "5             51          1        2025-01-23             2499   \n",
       "\n",
       "             plant_name  capacity plant_type  operator_id region_name  area  \\\n",
       "0           Ramirez LLC       515      Solar            2   treatment  4393   \n",
       "1     Schaefer and Sons       738    Nuclear           15      leader  4787   \n",
       "2             Brown Inc       438       Wind           18        with   154   \n",
       "3           Moody-Jones       860    Nuclear           18        open  1610   \n",
       "4  Washington-Rodriguez       357       Wind            9      almost  7874   \n",
       "5            Rios-Davis       685    Nuclear            8    yourself  6875   \n",
       "\n",
       "   population      operator_name                 contact  distribution_id  \n",
       "0      700514     Karla Williams            746.435.9498                1  \n",
       "1      957156  Thomas Ramsey Jr.            974-935-3350                2  \n",
       "2      217686     Alexander Peck            596.919.9974                3  \n",
       "3      182975     Alexander Peck            596.919.9974                4  \n",
       "4      156719       Jesus Farmer  001-761-463-3181x90875                5  \n",
       "5      283881       Jason Rogers      318.998.1018x29895                6  "
      ]
     },
     "execution_count": 78,
     "metadata": {},
     "output_type": "execute_result"
    }
   ],
   "source": [
    "df.sort_values('distribution_id').head(6)"
   ]
  },
  {
   "cell_type": "code",
   "execution_count": 80,
   "id": "773b544d-64e4-49e5-bd5f-7032565b19bb",
   "metadata": {},
   "outputs": [],
   "source": [
    "Distribution = df.loc[:,['distribution_id','powerplant_id','region_id','distribution_date','energy_supplied']]"
   ]
  },
  {
   "cell_type": "code",
   "execution_count": 82,
   "id": "02717883-2a19-4e61-b788-066cfe848883",
   "metadata": {},
   "outputs": [
    {
     "data": {
      "text/html": [
       "<div>\n",
       "<style scoped>\n",
       "    .dataframe tbody tr th:only-of-type {\n",
       "        vertical-align: middle;\n",
       "    }\n",
       "\n",
       "    .dataframe tbody tr th {\n",
       "        vertical-align: top;\n",
       "    }\n",
       "\n",
       "    .dataframe thead th {\n",
       "        text-align: right;\n",
       "    }\n",
       "</style>\n",
       "<table border=\"1\" class=\"dataframe\">\n",
       "  <thead>\n",
       "    <tr style=\"text-align: right;\">\n",
       "      <th></th>\n",
       "      <th>distribution_id</th>\n",
       "      <th>powerplant_id</th>\n",
       "      <th>region_id</th>\n",
       "      <th>distribution_date</th>\n",
       "      <th>energy_supplied</th>\n",
       "    </tr>\n",
       "  </thead>\n",
       "  <tbody>\n",
       "    <tr>\n",
       "      <th>0</th>\n",
       "      <td>1</td>\n",
       "      <td>76</td>\n",
       "      <td>25</td>\n",
       "      <td>2025-01-25</td>\n",
       "      <td>1062</td>\n",
       "    </tr>\n",
       "    <tr>\n",
       "      <th>1</th>\n",
       "      <td>2</td>\n",
       "      <td>98</td>\n",
       "      <td>5</td>\n",
       "      <td>2025-01-18</td>\n",
       "      <td>6961</td>\n",
       "    </tr>\n",
       "    <tr>\n",
       "      <th>2</th>\n",
       "      <td>3</td>\n",
       "      <td>3</td>\n",
       "      <td>26</td>\n",
       "      <td>2025-02-08</td>\n",
       "      <td>6987</td>\n",
       "    </tr>\n",
       "  </tbody>\n",
       "</table>\n",
       "</div>"
      ],
      "text/plain": [
       "   distribution_id  powerplant_id  region_id distribution_date  \\\n",
       "0                1             76         25        2025-01-25   \n",
       "1                2             98          5        2025-01-18   \n",
       "2                3              3         26        2025-02-08   \n",
       "\n",
       "   energy_supplied  \n",
       "0             1062  \n",
       "1             6961  \n",
       "2             6987  "
      ]
     },
     "execution_count": 82,
     "metadata": {},
     "output_type": "execute_result"
    }
   ],
   "source": [
    "Distribution.head(3)"
   ]
  },
  {
   "cell_type": "code",
   "execution_count": 84,
   "id": "f7a633ec-af04-420e-bf1c-5da6e6369d2c",
   "metadata": {},
   "outputs": [],
   "source": [
    "Distribution.columns=['id', 'powerplant id', 'region id', 'distribution date', 'energy supplied']"
   ]
  },
  {
   "cell_type": "code",
   "execution_count": 86,
   "id": "3a9edf6d-182e-47fc-80db-4a137d8d8e39",
   "metadata": {},
   "outputs": [
    {
     "data": {
      "text/plain": [
       "800"
      ]
     },
     "execution_count": 86,
     "metadata": {},
     "output_type": "execute_result"
    }
   ],
   "source": [
    "len(Distribution['id'].unique())"
   ]
  },
  {
   "cell_type": "code",
   "execution_count": 88,
   "id": "d4fc67bb-2852-4810-88a8-8f8a9031b066",
   "metadata": {},
   "outputs": [
    {
     "data": {
      "text/plain": [
       "800"
      ]
     },
     "execution_count": 88,
     "metadata": {},
     "output_type": "execute_result"
    }
   ],
   "source": [
    "len(Distribution)"
   ]
  },
  {
   "cell_type": "code",
   "execution_count": 90,
   "id": "1992ce5f-5e9e-4887-acdd-b518a7dbb133",
   "metadata": {},
   "outputs": [],
   "source": [
    "Distribution.drop_duplicates(subset='id',inplace=True)"
   ]
  },
  {
   "cell_type": "code",
   "execution_count": 92,
   "id": "4ad0d20d-f279-4be5-bf8b-fb0393c6ac34",
   "metadata": {},
   "outputs": [
    {
     "data": {
      "text/plain": [
       "800"
      ]
     },
     "execution_count": 92,
     "metadata": {},
     "output_type": "execute_result"
    }
   ],
   "source": [
    "len(Distribution)"
   ]
  },
  {
   "cell_type": "code",
   "execution_count": 94,
   "id": "6db0b78a-4c4d-4c7c-94ff-6e5a6bcba67c",
   "metadata": {},
   "outputs": [
    {
     "data": {
      "text/html": [
       "<div>\n",
       "<style scoped>\n",
       "    .dataframe tbody tr th:only-of-type {\n",
       "        vertical-align: middle;\n",
       "    }\n",
       "\n",
       "    .dataframe tbody tr th {\n",
       "        vertical-align: top;\n",
       "    }\n",
       "\n",
       "    .dataframe thead th {\n",
       "        text-align: right;\n",
       "    }\n",
       "</style>\n",
       "<table border=\"1\" class=\"dataframe\">\n",
       "  <thead>\n",
       "    <tr style=\"text-align: right;\">\n",
       "      <th></th>\n",
       "      <th>id</th>\n",
       "      <th>powerplant id</th>\n",
       "      <th>region id</th>\n",
       "      <th>distribution date</th>\n",
       "      <th>energy supplied</th>\n",
       "    </tr>\n",
       "  </thead>\n",
       "  <tbody>\n",
       "    <tr>\n",
       "      <th>0</th>\n",
       "      <td>1</td>\n",
       "      <td>76</td>\n",
       "      <td>25</td>\n",
       "      <td>2025-01-25</td>\n",
       "      <td>1062</td>\n",
       "    </tr>\n",
       "    <tr>\n",
       "      <th>1</th>\n",
       "      <td>2</td>\n",
       "      <td>98</td>\n",
       "      <td>5</td>\n",
       "      <td>2025-01-18</td>\n",
       "      <td>6961</td>\n",
       "    </tr>\n",
       "    <tr>\n",
       "      <th>2</th>\n",
       "      <td>3</td>\n",
       "      <td>3</td>\n",
       "      <td>26</td>\n",
       "      <td>2025-02-08</td>\n",
       "      <td>6987</td>\n",
       "    </tr>\n",
       "  </tbody>\n",
       "</table>\n",
       "</div>"
      ],
      "text/plain": [
       "   id  powerplant id  region id distribution date  energy supplied\n",
       "0   1             76         25        2025-01-25             1062\n",
       "1   2             98          5        2025-01-18             6961\n",
       "2   3              3         26        2025-02-08             6987"
      ]
     },
     "execution_count": 94,
     "metadata": {},
     "output_type": "execute_result"
    }
   ],
   "source": [
    "Distribution.head(3)"
   ]
  },
  {
   "cell_type": "code",
   "execution_count": 96,
   "id": "97483081-ba59-466d-9909-cea345a6577e",
   "metadata": {},
   "outputs": [
    {
     "data": {
      "text/plain": [
       "800"
      ]
     },
     "execution_count": 96,
     "metadata": {},
     "output_type": "execute_result"
    }
   ],
   "source": [
    "Distribution.to_sql('Distribution', con =engine, if_exists='replace', index=False)"
   ]
  },
  {
   "cell_type": "code",
   "execution_count": 98,
   "id": "0035e187-fa43-4af8-9e73-813da0370efc",
   "metadata": {},
   "outputs": [],
   "source": [
    "engine.dispose()"
   ]
  }
 ],
 "metadata": {
  "kernelspec": {
   "display_name": "Python 3 (ipykernel)",
   "language": "python",
   "name": "python3"
  },
  "language_info": {
   "codemirror_mode": {
    "name": "ipython",
    "version": 3
   },
   "file_extension": ".py",
   "mimetype": "text/x-python",
   "name": "python",
   "nbconvert_exporter": "python",
   "pygments_lexer": "ipython3",
   "version": "3.12.7"
  }
 },
 "nbformat": 4,
 "nbformat_minor": 5
}
